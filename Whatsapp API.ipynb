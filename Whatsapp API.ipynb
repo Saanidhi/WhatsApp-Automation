{
 "cells": [
  {
   "cell_type": "code",
   "execution_count": 46,
   "metadata": {
    "collapsed": true
   },
   "outputs": [],
   "source": [
    "from selenium import webdriver\n",
    "from time import sleep"
   ]
  },
  {
   "cell_type": "code",
   "execution_count": 47,
   "metadata": {
    "collapsed": true
   },
   "outputs": [],
   "source": [
    "driver=webdriver.Chrome('/usr/local/lib/node_modules/chromedriver/lib/chromedriver/chromedriver')\n"
   ]
  },
  {
   "cell_type": "code",
   "execution_count": 48,
   "metadata": {
    "collapsed": true
   },
   "outputs": [],
   "source": [
    "driver.get('https://web.whatsapp.com')"
   ]
  },
  {
   "cell_type": "code",
   "execution_count": 13,
   "metadata": {
    "collapsed": true
   },
   "outputs": [],
   "source": [
    "sleep(10)"
   ]
  },
  {
   "cell_type": "code",
   "execution_count": 43,
   "metadata": {},
   "outputs": [
    {
     "name": "stdout",
     "output_type": "stream",
     "text": [
      "[{'name': 'Abhishek Gupta', 'phone': '7042837137'}, {'name': 'Adeel Ahmad ', 'phone': '9810619096'}, {'name': 'Aditya Upreti', 'phone': '9910645881'}, {'name': 'Akanshi Mittal', 'phone': '8130948637'}, {'name': 'Amit', 'phone': '7827292258'}, {'name': 'Anand Prakash', 'phone': '9650283289'}, {'name': 'Ankit Kumar', 'phone': '8750697362'}, {'name': 'Anukriti Sahni', 'phone': '7838491851'}, {'name': 'Ashna Rathour', 'phone': '9310444625'}, {'name': 'Chandan Kumar', 'phone': '9643028745'}, {'name': 'Deepak Kumar', 'phone': '9868642034'}, {'name': 'Deepak Baghel', 'phone': '8285276184'}, {'name': 'Deepanshu Lohchab', 'phone': '8447038814'}, {'name': 'Devendra Kadain', 'phone': '9953820188'}, {'name': 'Dishant Gera', 'phone': '8377891552'}, {'name': 'Harish Balotia', 'phone': '9990894495'}, {'name': 'Harsh Sonava', 'phone': '9911882300'}, {'name': 'Himanshu Kumar', 'phone': '9015551778'}, {'name': 'Jagmohan', 'phone': '9711394987'}, {'name': 'Jatin Kumar', 'phone': '9582203265'}, {'name': 'Jaya Ranjan', 'phone': '9999388283'}, {'name': 'Karan Kumar', 'phone': '7042705078'}, {'name': 'Kirtivardhan', 'phone': '9643734094'}, {'name': 'Kushang gupta', 'phone': '9899554449'}, {'name': 'Mayank', 'phone': '9873067512'}, {'name': 'Mohit Sharma', 'phone': '9213830992'}, {'name': 'Nikhil Garg', 'phone': '9873679939'}, {'name': 'Nikhita Chandrashekhar', 'phone': '8588002019'}, {'name': 'Prabhav Gupta', 'phone': '8010251938'}, {'name': 'Rajat Verma', 'phone': '9643704456'}, {'name': 'Rajiv Dubey', 'phone': '7836838178'}, {'name': 'Ravi Shankar', 'phone': '9643948058'}, {'name': 'Rishabh Gupta', 'phone': '9650469057'}, {'name': 'Rishabh khatri', 'phone': '9599479931'}, {'name': 'Rishita Maan', 'phone': '8802873905'}, {'name': 'Ritik Sinha', 'phone': '7065299539'}, {'name': 'Rohan Pandey', 'phone': '9971591882'}, {'name': 'Rohit Saxena', 'phone': '7827990049'}, {'name': 'Sabhye', 'phone': '9582082227'}, {'name': 'Sahil Rana', 'phone': '7838666618'}, {'name': 'Sameer Chaudhary', 'phone': '8588004568'}, {'name': 'Samriddh Maurya', 'phone': '9278010323'}, {'name': 'Sanjeev', 'phone': '9891224268'}, {'name': 'Santosh Kumar', 'phone': '8527601217'}, {'name': 'Sarvesh Singh', 'phone': '7838089099'}, {'name': 'Saumya Gaur', 'phone': '8510002495'}, {'name': 'Shailvy Kaushik', 'phone': '7042403814'}, {'name': 'Shikha Singh', 'phone': '9968854926'}, {'name': 'Shubham Garg', 'phone': '9873396449'}, {'name': 'Simranpreet Singh', 'phone': '8587097780'}, {'name': 'Sonali Kumari', 'phone': '9716847552'}, {'name': 'Swati Sheemar', 'phone': '8860339578'}, {'name': 'Tanya Gautam ', 'phone': '7838081408'}, {'name': 'Vaibhav Jain', 'phone': '9818470698'}, {'name': 'Vijaypal Singh', 'phone': '9971484262'}, {'name': 'Vishal Singh', 'phone': '8010777784'}, {'name': 'Vishant Parashar', 'phone': '8376899237'}, {'name': 'Vivek Kumar', 'phone': '9013189931'}, {'name': 'Vivek Kr Sinha', 'phone': '9643498863'}, {'name': 'A.K.Hazel', 'phone': '9999110939'}, {'name': 'Aashish Kumar Thakur', 'phone': '9711945643'}, {'name': 'Akash Gangwar', 'phone': '9899265743'}, {'name': 'Anish Philip', 'phone': '9582796770'}, {'name': 'Ankit Pareek', 'phone': '7838821637'}, {'name': 'Ankit Varshney', 'phone': '9654487522'}, {'name': 'Apoorva Malik ', 'phone': '8587976425'}, {'name': 'Arvinder Singh', 'phone': '8527065456'}, {'name': 'Avijit Pathak ', 'phone': '9719898091'}, {'name': 'Chitrarth Medida', 'phone': '9971487895'}, {'name': 'Deepak Upadhyay', 'phone': '9899453811'}, {'name': 'Harsh Vikram Singh', 'phone': '9891671291'}, {'name': 'Himanshi', 'phone': '9990710918'}, {'name': 'Jyoti', 'phone': '9810511087'}, {'name': 'Kartik Kumar Singh', 'phone': '9999869720'}, {'name': 'Kshitij Srivastava', 'phone': '9910548545'}, {'name': 'Mitali Sharma ', 'phone': '9899435941'}, {'name': 'Mohit Goswami', 'phone': '9891524214'}, {'name': 'Mukul Chaudhary', 'phone': '9873113748'}, {'name': 'Naveen Sodhi', 'phone': '9910821783'}, {'name': 'Neha Dalmia', 'phone': '9811891543'}, {'name': 'Nikhil Bhatia ', 'phone': '9971374831'}, {'name': 'Nithin Vytla', 'phone': '9650498607'}, {'name': 'Pankaj Mandawriya', 'phone': '9818720172'}, {'name': 'Pradeep Kumar', 'phone': '9711945365'}, {'name': 'Prajwal Ikhar', 'phone': '8800304979'}, {'name': 'Prateek Agarwal', 'phone': '9958657760'}, {'name': 'Priyanka Tete ', 'phone': '9891089243/7503474151'}, {'name': 'Radhey Shyam', 'phone': '8447554035'}, {'name': 'Rahul Khandelwal', 'phone': '8,800,543,271'}, {'name': 'Ramakant Joshi', 'phone': '9868454920'}, {'name': 'Rashmi Shahu', 'phone': '8743883460'}, {'name': 'Raveena Saini', 'phone': '9599706672'}, {'name': 'Rishabh Jain', 'phone': '9717378392'}, {'name': 'Sarvesh Kumar Patel', 'phone': '9540563548'}, {'name': 'Satyakshi Sharma', 'phone': '8447325298'}, {'name': 'Saurabh Khurana', 'phone': '9953202749'}, {'name': 'Sawai Daiya', 'phone': '8527065475'}, {'name': 'Shashank Sharma', 'phone': '9910415444'}, {'name': 'Shyam Gupta', 'phone': '7827837713'}, {'name': 'Suhaani', 'phone': '8800574756'}, {'name': 'Surbhi Goyal', 'phone': '9911100341'}, {'name': 'Tushar Maheshwari', 'phone': '9871938049'}, {'name': 'Udit Kumar', 'phone': '9650537695'}, {'name': 'Vitthal Sharma', 'phone': '9711945302'}, {'name': 'Yash Chawla', 'phone': '8285718134'}, {'name': 'Yash Chahnde', 'phone': '9175814147'}, {'name': 'Aakriti Makker', 'phone': '9015890917'}, {'name': 'Ajay Aggarwal', 'phone': '9873651556'}, {'name': 'AKASH KUMAR', 'phone': '9716178440'}, {'name': 'Arihant Kumar', 'phone': '9711277811'}, {'name': 'ARIJIT DAS', 'phone': '9971152678'}, {'name': 'Arnesh Das', 'phone': '9910869278'}, {'name': 'Aseem Jaini', 'phone': '7838564280'}, {'name': 'ASHUTOSH PRAJAPATI', 'phone': '9013507220'}, {'name': 'Bhanu Pratap Singh', 'phone': '9711904624'}, {'name': 'DEEPAK BISHNOI', 'phone': '9718533880'}, {'name': 'Devanshu Singla', 'phone': '9540006777'}, {'name': 'Falit Jain', 'phone': '9953854092'}, {'name': 'Inderjeet Narwal', 'phone': '9971443098'}, {'name': 'Lakshay Thareja', 'phone': '9999927483'}, {'name': 'Lohit Gudivada', 'phone': '9871223834'}, {'name': 'Lokesh Raizada', 'phone': '9899713469'}, {'name': 'MADHURI KOHLI', 'phone': '9013348938'}, {'name': 'MANISH KUMAR', 'phone': '9716066214'}, {'name': 'Mohammad Khurshid Hussain', 'phone': '9899897831'}, {'name': 'Nishank Sharma', 'phone': '9555326240'}, {'name': 'NITIN CHAUHAN', 'phone': '9650596375'}, {'name': 'RAVI BALOTIA', 'phone': '8130941298'}, {'name': 'SAGAR GOSWAMI', 'phone': '9582076754'}, {'name': 'Shruti Dutt', 'phone': '9717725620'}, {'name': 'Shubham Kanyal', 'phone': '9711912042'}, {'name': 'SHUBHAM RAJPUT', 'phone': '9650912319'}, {'name': 'Surabhi Sinha', 'phone': '8826866164'}, {'name': 'Shivangi karol', 'phone': '9560039188'}, {'name': 'Chandra Prakash Singh', 'phone': '8130652854'}, {'name': 'Abhinav Chaudhary', 'phone': '9990879719'}, {'name': 'Akshita Bhatnagar', 'phone': '9810823608'}, {'name': 'K. Gurtej-n', 'phone': '9555625020'}, {'name': 'Faraz Nayyar', 'phone': '8285743133'}, {'name': 'Hemwant Rawat', 'phone': '8373928255'}, {'name': 'Narendra Kumar', 'phone': '8447921810'}, {'name': 'Karamveer Mathur', 'phone': '7827070214'}, {'name': 'Vinod Parihar', 'phone': '8802410949'}, {'name': 'Gautam Katyal', 'phone': '9873827367'}, {'name': 'Diksha', 'phone': '8588 065 871'}, {'name': 'Shashank Pal', 'phone': '9873681118'}, {'name': 'Ishaan', 'phone': '8010276844'}]\n"
     ]
    }
   ],
   "source": [
    "import csv \n",
    "\n",
    "\n",
    "filename = \"/Users/saanidhi/Downloads/lols.csv\"\n",
    "\n",
    "\n",
    "rows = [] \n",
    "persons = []\n",
    "\n",
    "with open(filename, 'r') as csvfile: \n",
    "    \n",
    "    csvreader = csv.reader(csvfile) \n",
    "    \n",
    "    \n",
    "    for row in csvreader: \n",
    "        if row[4].strip():\n",
    "            person={\n",
    "                \"name\":row[1],\n",
    "                \"phone\":row[4]\n",
    "            }\n",
    "            persons.append(person)\n",
    "            \n",
    "\n",
    "            \n",
    "print(persons)"
   ]
  },
  {
   "cell_type": "code",
   "execution_count": 56,
   "metadata": {},
   "outputs": [],
   "source": [
    "errors=[]\n",
    "for n in persons:\n",
    "    try:\n",
    "        driver.get(\"https://api.whatsapp.com/send?phone=91\"+n['phone'])\n",
    "        driver.find_element_by_id(\"action-button\").click()\n",
    "        sleep(30)\n",
    "        k=driver.find_element_by_css_selector(\"div[data-tab='1']\")\n",
    "        k.send_keys(\"Hi\"+\" \"+n['name']+\" ! \"+\"I am Saanidhi, pursuing Btech from DTU.We the team of NSS DTU is marching ahead with the success of last year's NSS DTU mega event-Indradhanush, we are now rekindling the spirit of social empowerment with the most-anticipated second edition of Conclave 2019-Kartavya. We cordially invite you to our National Social Summit on 8th and 9th April. We would highly be honored if you could be a part of it. We are also looking for some donations to make our event a grand success. It would be appreciated if you could provide some monetary funds for the same.Thank you for your time\")\n",
    "        snd=driver.find_element_by_css_selector(\"span[data-icon='send']\")\n",
    "        snd.click()\n",
    "    except:\n",
    "        errors.append(n)\n",
    "    sleep(5)"
   ]
  },
  {
   "cell_type": "code",
   "execution_count": 49,
   "metadata": {
    "collapsed": true
   },
   "outputs": [],
   "source": [
    "temp_persons=[]\n",
    "p={\n",
    "    'name':'Ronak Sakhuja',\n",
    "    'phone':'7838822862'\n",
    "}\n",
    "p2={\n",
    "    'name':'Saani',\n",
    "    'phone':'8901341340'\n",
    "}\n",
    "temp_persons.append(p)\n",
    "temp_persons.append(p2)"
   ]
  },
  {
   "cell_type": "code",
   "execution_count": 54,
   "metadata": {},
   "outputs": [
    {
     "data": {
      "text/plain": [
       "[{'name': 'Ronak Sakhuja', 'phone': '7838822862'}]"
      ]
     },
     "execution_count": 54,
     "metadata": {},
     "output_type": "execute_result"
    }
   ],
   "source": [
    "errors"
   ]
  },
  {
   "cell_type": "code",
   "execution_count": 25,
   "metadata": {
    "collapsed": true
   },
   "outputs": [],
   "source": []
  },
  {
   "cell_type": "code",
   "execution_count": 28,
   "metadata": {
    "collapsed": true
   },
   "outputs": [],
   "source": []
  },
  {
   "cell_type": "code",
   "execution_count": 29,
   "metadata": {
    "collapsed": true
   },
   "outputs": [],
   "source": []
  },
  {
   "cell_type": "code",
   "execution_count": 30,
   "metadata": {
    "collapsed": true
   },
   "outputs": [],
   "source": []
  },
  {
   "cell_type": "code",
   "execution_count": null,
   "metadata": {
    "collapsed": true
   },
   "outputs": [],
   "source": []
  }
 ],
 "metadata": {
  "kernelspec": {
   "display_name": "Python 3",
   "language": "python",
   "name": "python3"
  },
  "language_info": {
   "codemirror_mode": {
    "name": "ipython",
    "version": 3
   },
   "file_extension": ".py",
   "mimetype": "text/x-python",
   "name": "python",
   "nbconvert_exporter": "python",
   "pygments_lexer": "ipython3",
   "version": "3.6.3"
  }
 },
 "nbformat": 4,
 "nbformat_minor": 2
}
